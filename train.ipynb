{
 "cells": [
  {
   "cell_type": "code",
   "execution_count": 1,
   "metadata": {},
   "outputs": [],
   "source": [
    "import numpy as np \n",
    "import pandas as pd\n",
    "import matplotlib.pyplot as plt\n",
    "import seaborn as sns\n",
    "from sklearn.feature_extraction.text import TfidfVectorizer\n",
    "from sklearn.metrics.pairwise import cosine_similarity, cosine_distances , linear_kernel\n",
    "from sklearn.model_selection import train_test_split\n",
    "import pickle"
   ]
  },
  {
   "cell_type": "code",
   "execution_count": 2,
   "metadata": {},
   "outputs": [],
   "source": [
    "df = pd.read_csv('all-places.csv')"
   ]
  },
  {
   "cell_type": "code",
   "execution_count": 3,
   "metadata": {},
   "outputs": [
    {
     "name": "stdout",
     "output_type": "stream",
     "text": [
      "____________shape_____________\n"
     ]
    },
    {
     "data": {
      "text/plain": [
       "(310, 6)"
      ]
     },
     "metadata": {},
     "output_type": "display_data"
    },
    {
     "name": "stdout",
     "output_type": "stream",
     "text": [
      "_____________head_____________\n"
     ]
    },
    {
     "data": {
      "text/html": [
       "<div>\n",
       "<style scoped>\n",
       "    .dataframe tbody tr th:only-of-type {\n",
       "        vertical-align: middle;\n",
       "    }\n",
       "\n",
       "    .dataframe tbody tr th {\n",
       "        vertical-align: top;\n",
       "    }\n",
       "\n",
       "    .dataframe thead th {\n",
       "        text-align: right;\n",
       "    }\n",
       "</style>\n",
       "<table border=\"1\" class=\"dataframe\">\n",
       "  <thead>\n",
       "    <tr style=\"text-align: right;\">\n",
       "      <th></th>\n",
       "      <th>state_id</th>\n",
       "      <th>address</th>\n",
       "      <th>name</th>\n",
       "      <th>description</th>\n",
       "      <th>image</th>\n",
       "      <th>image2</th>\n",
       "    </tr>\n",
       "  </thead>\n",
       "  <tbody>\n",
       "    <tr>\n",
       "      <th>0</th>\n",
       "      <td>1</td>\n",
       "      <td>Alexandria</td>\n",
       "      <td>bibliotheca Alexandrina</td>\n",
       "      <td>The Library of Alexandria was for many centuri...</td>\n",
       "      <td>https://www.cairotoptours.com/storage/256/conv...</td>\n",
       "      <td>https://www.cairotoptours.com/storage/255/conv...</td>\n",
       "    </tr>\n",
       "    <tr>\n",
       "      <th>1</th>\n",
       "      <td>1</td>\n",
       "      <td>Alexandria</td>\n",
       "      <td>Alexandria National Museum</td>\n",
       "      <td>The National Museum of Alexandria has grown in...</td>\n",
       "      <td>https://www.cairotoptours.com/storage/265/conv...</td>\n",
       "      <td>https://www.cairotoptours.com/storage/264/conv...</td>\n",
       "    </tr>\n",
       "    <tr>\n",
       "      <th>2</th>\n",
       "      <td>1</td>\n",
       "      <td>Alexandria</td>\n",
       "      <td>The Citadel of Qaitbey</td>\n",
       "      <td>The citadel of Qaitbay in Alexandria is consid...</td>\n",
       "      <td>https://www.cairotoptours.com/storage/273/conv...</td>\n",
       "      <td>https://www.cairotoptours.com/storage/272/conv...</td>\n",
       "    </tr>\n",
       "    <tr>\n",
       "      <th>3</th>\n",
       "      <td>1</td>\n",
       "      <td>Alexandria</td>\n",
       "      <td>Alexandria Corniche</td>\n",
       "      <td>Alexandria Corniche is a very important Alexan...</td>\n",
       "      <td>https://www.cairotoptours.com/storage/283/conv...</td>\n",
       "      <td>https://www.cairotoptours.com/storage/282/conv...</td>\n",
       "    </tr>\n",
       "    <tr>\n",
       "      <th>4</th>\n",
       "      <td>1</td>\n",
       "      <td>Alexandria</td>\n",
       "      <td>The Roman Amphitheatre in Alexandria | Ancient...</td>\n",
       "      <td>The Roman amphitheater in Alexandria in Egypt ...</td>\n",
       "      <td>https://www.cairotoptours.com/storage/291/conv...</td>\n",
       "      <td>https://www.cairotoptours.com/storage/290/conv...</td>\n",
       "    </tr>\n",
       "  </tbody>\n",
       "</table>\n",
       "</div>"
      ],
      "text/plain": [
       "   state_id     address                                               name  \\\n",
       "0         1  Alexandria                            bibliotheca Alexandrina   \n",
       "1         1  Alexandria                         Alexandria National Museum   \n",
       "2         1  Alexandria                             The Citadel of Qaitbey   \n",
       "3         1  Alexandria                                Alexandria Corniche   \n",
       "4         1  Alexandria  The Roman Amphitheatre in Alexandria | Ancient...   \n",
       "\n",
       "                                         description  \\\n",
       "0  The Library of Alexandria was for many centuri...   \n",
       "1  The National Museum of Alexandria has grown in...   \n",
       "2  The citadel of Qaitbay in Alexandria is consid...   \n",
       "3  Alexandria Corniche is a very important Alexan...   \n",
       "4  The Roman amphitheater in Alexandria in Egypt ...   \n",
       "\n",
       "                                               image  \\\n",
       "0  https://www.cairotoptours.com/storage/256/conv...   \n",
       "1  https://www.cairotoptours.com/storage/265/conv...   \n",
       "2  https://www.cairotoptours.com/storage/273/conv...   \n",
       "3  https://www.cairotoptours.com/storage/283/conv...   \n",
       "4  https://www.cairotoptours.com/storage/291/conv...   \n",
       "\n",
       "                                              image2  \n",
       "0  https://www.cairotoptours.com/storage/255/conv...  \n",
       "1  https://www.cairotoptours.com/storage/264/conv...  \n",
       "2  https://www.cairotoptours.com/storage/272/conv...  \n",
       "3  https://www.cairotoptours.com/storage/282/conv...  \n",
       "4  https://www.cairotoptours.com/storage/290/conv...  "
      ]
     },
     "metadata": {},
     "output_type": "display_data"
    },
    {
     "name": "stdout",
     "output_type": "stream",
     "text": [
      "_____________tail_____________\n"
     ]
    },
    {
     "data": {
      "text/html": [
       "<div>\n",
       "<style scoped>\n",
       "    .dataframe tbody tr th:only-of-type {\n",
       "        vertical-align: middle;\n",
       "    }\n",
       "\n",
       "    .dataframe tbody tr th {\n",
       "        vertical-align: top;\n",
       "    }\n",
       "\n",
       "    .dataframe thead th {\n",
       "        text-align: right;\n",
       "    }\n",
       "</style>\n",
       "<table border=\"1\" class=\"dataframe\">\n",
       "  <thead>\n",
       "    <tr style=\"text-align: right;\">\n",
       "      <th></th>\n",
       "      <th>state_id</th>\n",
       "      <th>address</th>\n",
       "      <th>name</th>\n",
       "      <th>description</th>\n",
       "      <th>image</th>\n",
       "      <th>image2</th>\n",
       "    </tr>\n",
       "  </thead>\n",
       "  <tbody>\n",
       "    <tr>\n",
       "      <th>305</th>\n",
       "      <td>5</td>\n",
       "      <td>Red Sea</td>\n",
       "      <td>Mini Egypt Park</td>\n",
       "      <td>Mini Egypt Park is a miniature park that exten...</td>\n",
       "      <td>https://www.cairotoptours.com/storage/4046/con...</td>\n",
       "      <td>https://www.cairotoptours.com/storage/4045/con...</td>\n",
       "    </tr>\n",
       "    <tr>\n",
       "      <th>306</th>\n",
       "      <td>5</td>\n",
       "      <td>Red Sea</td>\n",
       "      <td>Abu Minkar Island</td>\n",
       "      <td>Abu Minqar Islands are islands in the Red Sea,...</td>\n",
       "      <td>https://www.cairotoptours.com/storage/4055/con...</td>\n",
       "      <td>https://www.cairotoptours.com/storage/4054/con...</td>\n",
       "    </tr>\n",
       "    <tr>\n",
       "      <th>307</th>\n",
       "      <td>5</td>\n",
       "      <td>Red Sea</td>\n",
       "      <td>Magawish Island</td>\n",
       "      <td>Magawish Island is one of the largest islands ...</td>\n",
       "      <td>https://www.cairotoptours.com/storage/4062/con...</td>\n",
       "      <td>https://www.cairotoptours.com/storage/4061/con...</td>\n",
       "    </tr>\n",
       "    <tr>\n",
       "      <th>308</th>\n",
       "      <td>5</td>\n",
       "      <td>Red Sea</td>\n",
       "      <td>Hurghada Grand Aquarium</td>\n",
       "      <td>The Aquarium contains 22 fish tanks and contai...</td>\n",
       "      <td>https://www.cairotoptours.com/storage/4065/con...</td>\n",
       "      <td>https://www.cairotoptours.com/storage/4064/con...</td>\n",
       "    </tr>\n",
       "    <tr>\n",
       "      <th>309</th>\n",
       "      <td>5</td>\n",
       "      <td>Red Sea</td>\n",
       "      <td>Gabal Shayeb Al Banat - Red Sea Mountain</td>\n",
       "      <td>Gabal Shayeb Al Banat, also known as Mount Sha...</td>\n",
       "      <td>https://www.cairotoptours.com/storage/18336/co...</td>\n",
       "      <td>https://www.cairotoptours.com/storage/18335/co...</td>\n",
       "    </tr>\n",
       "  </tbody>\n",
       "</table>\n",
       "</div>"
      ],
      "text/plain": [
       "     state_id  address                                      name  \\\n",
       "305         5  Red Sea                           Mini Egypt Park   \n",
       "306         5  Red Sea                         Abu Minkar Island   \n",
       "307         5  Red Sea                           Magawish Island   \n",
       "308         5  Red Sea                   Hurghada Grand Aquarium   \n",
       "309         5  Red Sea  Gabal Shayeb Al Banat - Red Sea Mountain   \n",
       "\n",
       "                                           description  \\\n",
       "305  Mini Egypt Park is a miniature park that exten...   \n",
       "306  Abu Minqar Islands are islands in the Red Sea,...   \n",
       "307  Magawish Island is one of the largest islands ...   \n",
       "308  The Aquarium contains 22 fish tanks and contai...   \n",
       "309  Gabal Shayeb Al Banat, also known as Mount Sha...   \n",
       "\n",
       "                                                 image  \\\n",
       "305  https://www.cairotoptours.com/storage/4046/con...   \n",
       "306  https://www.cairotoptours.com/storage/4055/con...   \n",
       "307  https://www.cairotoptours.com/storage/4062/con...   \n",
       "308  https://www.cairotoptours.com/storage/4065/con...   \n",
       "309  https://www.cairotoptours.com/storage/18336/co...   \n",
       "\n",
       "                                                image2  \n",
       "305  https://www.cairotoptours.com/storage/4045/con...  \n",
       "306  https://www.cairotoptours.com/storage/4054/con...  \n",
       "307  https://www.cairotoptours.com/storage/4061/con...  \n",
       "308  https://www.cairotoptours.com/storage/4064/con...  \n",
       "309  https://www.cairotoptours.com/storage/18335/co...  "
      ]
     },
     "metadata": {},
     "output_type": "display_data"
    },
    {
     "name": "stdout",
     "output_type": "stream",
     "text": [
      "_____________info_____________\n",
      "\n",
      "<class 'pandas.core.frame.DataFrame'>\n",
      "RangeIndex: 310 entries, 0 to 309\n",
      "Data columns (total 6 columns):\n",
      " #   Column       Non-Null Count  Dtype \n",
      "---  ------       --------------  ----- \n",
      " 0   state_id     310 non-null    int64 \n",
      " 1   address      310 non-null    object\n",
      " 2   name         310 non-null    object\n",
      " 3   description  310 non-null    object\n",
      " 4   image        310 non-null    object\n",
      " 5   image2       310 non-null    object\n",
      "dtypes: int64(1), object(5)\n",
      "memory usage: 14.7+ KB\n"
     ]
    },
    {
     "data": {
      "text/plain": [
       "None"
      ]
     },
     "metadata": {},
     "output_type": "display_data"
    },
    {
     "name": "stdout",
     "output_type": "stream",
     "text": [
      "___________describe___________\n"
     ]
    },
    {
     "data": {
      "text/html": [
       "<div>\n",
       "<style scoped>\n",
       "    .dataframe tbody tr th:only-of-type {\n",
       "        vertical-align: middle;\n",
       "    }\n",
       "\n",
       "    .dataframe tbody tr th {\n",
       "        vertical-align: top;\n",
       "    }\n",
       "\n",
       "    .dataframe thead th {\n",
       "        text-align: right;\n",
       "    }\n",
       "</style>\n",
       "<table border=\"1\" class=\"dataframe\">\n",
       "  <thead>\n",
       "    <tr style=\"text-align: right;\">\n",
       "      <th></th>\n",
       "      <th>count</th>\n",
       "      <th>mean</th>\n",
       "      <th>std</th>\n",
       "      <th>min</th>\n",
       "      <th>25%</th>\n",
       "      <th>50%</th>\n",
       "      <th>75%</th>\n",
       "      <th>max</th>\n",
       "    </tr>\n",
       "  </thead>\n",
       "  <tbody>\n",
       "    <tr>\n",
       "      <th>state_id</th>\n",
       "      <td>310.0</td>\n",
       "      <td>3.064516</td>\n",
       "      <td>1.288121</td>\n",
       "      <td>1.0</td>\n",
       "      <td>2.0</td>\n",
       "      <td>3.0</td>\n",
       "      <td>4.0</td>\n",
       "      <td>5.0</td>\n",
       "    </tr>\n",
       "  </tbody>\n",
       "</table>\n",
       "</div>"
      ],
      "text/plain": [
       "          count      mean       std  min  25%  50%  75%  max\n",
       "state_id  310.0  3.064516  1.288121  1.0  2.0  3.0  4.0  5.0"
      ]
     },
     "metadata": {},
     "output_type": "display_data"
    }
   ],
   "source": [
    "def background_color(value):\n",
    "    if isinstance(value, str):\n",
    "        return 'background-color: #40A2E3'\n",
    "    return ''\n",
    "\n",
    "def show_df(df):   #function to show information about data\n",
    "    \n",
    "    print('shape'.center(30,'_'))\n",
    "    display(df.shape)\n",
    "    \n",
    "    print('head'.center(30,'_'))\n",
    "    display(df.head())\n",
    "    \n",
    "    print('tail'.center(30,'_'))\n",
    "    display(df.tail())\n",
    "    \n",
    "    print('info'.center(30,'_')+'\\n')\n",
    "    display(df.info())\n",
    "    \n",
    "    print('describe'.center(30,'_'))\n",
    "    display(df.describe().T)\n",
    "  \n",
    "show_df(df)"
   ]
  },
  {
   "cell_type": "code",
   "execution_count": 4,
   "metadata": {},
   "outputs": [
    {
     "name": "stdout",
     "output_type": "stream",
     "text": [
      "____Number of null values_____\n",
      "state_id       0\n",
      "address        0\n",
      "name           0\n",
      "description    0\n",
      "image          0\n",
      "image2         0\n",
      "dtype: int64\n",
      "__________________________________________________\n",
      "\n",
      "_Number of duplicated values__\n",
      "\n",
      "--------0\n"
     ]
    }
   ],
   "source": [
    "def check(df):\n",
    "    \n",
    "    #function to check data have null and  duplicated values or no\n",
    "    \n",
    "    print('Number of null values'.center(30,'_'))\n",
    "    print(df.isnull().sum())\n",
    "    print(50*'_')\n",
    "    print('\\n'+'Number of duplicated values'.center(30,'_')+'\\n')\n",
    "    print(f'--------{df.duplicated().sum()}')\n",
    "check(df)"
   ]
  },
  {
   "cell_type": "code",
   "execution_count": 5,
   "metadata": {},
   "outputs": [
    {
     "data": {
      "image/png": "[encoded data removed]",
      "text/plain": [
       "<Figure size 640x480 with 1 Axes>"
      ]
     },
     "metadata": {},
     "output_type": "display_data"
    }
   ],
   "source": [
    "df['text_length'] = df['description'].apply(lambda x: len(x))\n",
    "sns.boxplot(data=df, y='text_length')\n",
    "plt.ylabel('Text Length')\n",
    "plt.title('Box Plot of Text Length')\n",
    "plt.show()"
   ]
  },
  {
   "cell_type": "code",
   "execution_count": 6,
   "metadata": {},
   "outputs": [
    {
     "data": {
      "text/plain": [
       "<Axes: ylabel='Frequency'>"
      ]
     },
     "execution_count": 6,
     "metadata": {},
     "output_type": "execute_result"
    },
    {
     "data": {
      "image/png": "[encoded data removed]",
      "text/plain": [
       "<Figure size 640x480 with 1 Axes>"
      ]
     },
     "metadata": {},
     "output_type": "display_data"
    }
   ],
   "source": [
    "df['text_length'].plot(kind='hist', bins=50)"
   ]
  },
  {
   "cell_type": "code",
   "execution_count": 7,
   "metadata": {},
   "outputs": [
    {
     "data": {
      "text/plain": [
       "Cairo         120\n",
       "Red Sea        59\n",
       "Alexandria     49\n",
       "Aswan          41\n",
       "Luxor          41\n",
       "Name: address, dtype: int64"
      ]
     },
     "execution_count": 7,
     "metadata": {},
     "output_type": "execute_result"
    }
   ],
   "source": [
    "df['address'].value_counts()"
   ]
  },
  {
   "cell_type": "code",
   "execution_count": 8,
   "metadata": {},
   "outputs": [
    {
     "data": {
      "text/plain": [
       "array(['Alexandria', 'Aswan', 'Cairo', 'Luxor', 'Red Sea'], dtype=object)"
      ]
     },
     "execution_count": 8,
     "metadata": {},
     "output_type": "execute_result"
    }
   ],
   "source": [
    "df['address'].unique()"
   ]
  },
  {
   "cell_type": "code",
   "execution_count": 9,
   "metadata": {},
   "outputs": [
    {
     "data": {
      "image/png": "[encoded data removed]",
      "text/plain": [
       "<Figure size 1000x600 with 1 Axes>"
      ]
     },
     "metadata": {},
     "output_type": "display_data"
    }
   ],
   "source": [
    "city_counts = df['address']\n",
    "\n",
    "# Create the bar plot\n",
    "plt.figure(figsize=(10, 6))\n",
    "sns.barplot(x=city_counts.index, y=city_counts.values)\n",
    "plt.title('Value Counts for Cities')\n",
    "plt.xlabel('City')\n",
    "plt.ylabel('Count')\n",
    "plt.xticks(rotation=-90)\n",
    "plt.show()"
   ]
  },
  {
   "cell_type": "code",
   "execution_count": 11,
   "metadata": {},
   "outputs": [],
   "source": [
    "tfidf = TfidfVectorizer(stop_words='english')\n",
    "tfidf_matrix = tfidf.fit_transform(df['description'])"
   ]
  },
  {
   "cell_type": "code",
   "execution_count": 13,
   "metadata": {},
   "outputs": [],
   "source": [
    "# Save the TF-IDF vectorizer\n",
    "with open('tfidf_vectorizer.pkl', 'wb') as f:\n",
    "    pickle.dump(tfidf, f)\n",
    "\n",
    "# Save the TF-IDF matrix\n",
    "with open('tfidf_matrix.pkl', 'wb') as f:\n",
    "    pickle.dump(tfidf_matrix, f)\n"
   ]
  },
  {
   "cell_type": "code",
   "execution_count": 17,
   "metadata": {},
   "outputs": [],
   "source": [
    "with open('data.pkl', 'wb') as f:\n",
    "    pickle.dump(df, f)"
   ]
  },
  {
   "cell_type": "code",
   "execution_count": 14,
   "metadata": {},
   "outputs": [],
   "source": [
    "# Compute cosine similarity matrix\n",
    "cosine_sim = cosine_similarity(tfidf_matrix, tfidf_matrix)"
   ]
  },
  {
   "cell_type": "code",
   "execution_count": 22,
   "metadata": {},
   "outputs": [
    {
     "name": "stdout",
     "output_type": "stream",
     "text": [
      "                                        name  address\n",
      "241  Temple of Amun-Re | Precinct of Amun-Re    Luxor\n",
      "308                  Hurghada Grand Aquarium  Red Sea\n",
      "299          Marsa Mubark Bay in Marsa Allam  Red Sea\n"
     ]
    }
   ],
   "source": [
    "# Function to get recommendations\n",
    "def get_recommendations(place_name, df, cosine_sim, top_n=3):\n",
    "    try:\n",
    "        idx = df[df['name'] == place_name].index[0]\n",
    "    except IndexError:\n",
    "        return pd.DataFrame()  # Return an empty DataFrame if place_name is not found\n",
    "    \n",
    "    sim_scores = list(enumerate(cosine_sim[idx]))\n",
    "    sim_scores = sorted(sim_scores, key=lambda x: x[1], reverse=True)\n",
    "    sim_scores = sim_scores[1:top_n+1]  # Get top 'top_n' similar places\n",
    "    place_indices = [i[0] for i in sim_scores]\n",
    "    return df[['name', 'address']].iloc[place_indices]\n",
    "\n",
    "# Example usage\n",
    "recommended_places = get_recommendations('Hurghada Grand Aquarium', df, cosine_sim)\n",
    "print(recommended_places)"
   ]
  },
  {
   "cell_type": "code",
   "execution_count": null,
   "metadata": {},
   "outputs": [],
   "source": []
  }
 ],
 "metadata": {
  "kernelspec": {
   "display_name": "base",
   "language": "python",
   "name": "python3"
  },
  "language_info": {
   "codemirror_mode": {
    "name": "ipython",
    "version": 3
   },
   "file_extension": ".py",
   "mimetype": "text/x-python",
   "name": "python",
   "nbconvert_exporter": "python",
   "pygments_lexer": "ipython3",
   "version": "3.10.9"
  }
 },
 "nbformat": 4,
 "nbformat_minor": 2
}
